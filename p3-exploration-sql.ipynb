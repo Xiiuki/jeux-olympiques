{
 "cells": [
  {
   "cell_type": "markdown",
   "metadata": {},
   "source": [
    "# P3. Exploration SQL"
   ]
  },
  {
   "cell_type": "markdown",
   "metadata": {},
   "source": [
    "Le répertoire `/db` contient une base de données SQLite3 `olympics.sqbpro` reprenant les résultats des épreuves des jeux d'été pour une période donnée (cf P1 & P2).\n",
    "\n",
    "On s'intéresse dans le cadre de cette partie P3 à l'exploration via SQL des résultats des JO d'été (table : `summer`)."
   ]
  },
  {
   "cell_type": "markdown",
   "metadata": {},
   "source": [
    "---"
   ]
  },
  {
   "cell_type": "markdown",
   "metadata": {},
   "source": [
    "### Question 1: Qu'est ce que SQL ?"
   ]
  },
  {
   "cell_type": "markdown",
   "metadata": {},
   "source": [
    "SQL est un langage informatique qui sert à exploiter une des bases de données relationnelles."
   ]
  },
  {
   "cell_type": "markdown",
   "metadata": {},
   "source": [
    "### Question 2: Qu'est ce que SQLite 3 ? Avantages et/ou Inconvénients ?"
   ]
  },
  {
   "cell_type": "markdown",
   "metadata": {},
   "source": [
    " - SQLite est un système de base de données qui a la particularité de fonctionner sans serveur, on dit aussi \"standalone\" ou \"base de données embarquée\". On peut l'utiliser avec beaucoup de langages : PHP, Python, C# (.NET), Java, C/C++, Delphi, Ruby...\n",
    " \n",
    " \n",
    " -  SQLite 2 est devenue obsolète lors de la sortie de SQLite 3 en 2004.\n",
    " \n",
    " \n",
    " - La version 3 apporte de meilleures performances ainsi que son lot utile comme :\n",
    "     - Auto increment (très utile pour les clé primaires à base d'entiers générés automatiquement)\n",
    "     - Stockage plus efficace (SQLite2 stocke tous les types sous forme de chaine de caractère : entiers, chaines, BLOB... ce qui occupe de                                                     l'espace  disque inutilement)\n",
    "     - Support des clés étrangères\n",
    "    \n",
    "    \n",
    " - Avantages:\n",
    "     - Simplicité\n",
    "     - Peut remplacer d'autre logiciel de même type (il y est plus performant,propre,portable)\n",
    "     - Léger, rapide, et n'a pas besoins de serveur\n",
    "     \n",
    "     \n",
    " - Inconvénients:\n",
    "     - Ecritures atomiques\n",
    "     - N'aime pas trop les grosses bases de données \n",
    "\n",
    "\n",
    "[Finalclap](http://www.finalclap.com/faq/94-mysql-log-binaire-journal-transaction)\n",
    "\n",
    "[Idleman](http://blog.idleman.fr/leed-pourquoi-sqlite3-est-un-mauvais-choix/)"
   ]
  },
  {
   "cell_type": "markdown",
   "metadata": {},
   "source": [
    "### Question 3: Donner des exemples d'autres formats de fichier pouvant être utilisé pour fournir des données similaires "
   ]
  },
  {
   "cell_type": "markdown",
   "metadata": {},
   "source": [
    "XML, JSON, RDF "
   ]
  },
  {
   "cell_type": "markdown",
   "metadata": {},
   "source": [
    "### Question 4: Quel est le type (texte ou binaire) du fichier base de données SQLite3?"
   ]
  },
  {
   "cell_type": "markdown",
   "metadata": {},
   "source": [
    "Le fichier `olympics.sqbpro` est un fichier binaire"
   ]
  },
  {
   "cell_type": "markdown",
   "metadata": {},
   "source": [
    "### Question 5: Donner les caractéristiques de la table `summer` ? "
   ]
  },
  {
   "cell_type": "markdown",
   "metadata": {},
   "source": [
    "La table summer:"
   ]
  },
  {
   "cell_type": "markdown",
   "metadata": {},
   "source": [
    "![Structure.png](screen/Structure.PNG)"
   ]
  },
  {
   "cell_type": "markdown",
   "metadata": {},
   "source": [
    "---\n",
    "### Question 6: Combien d'enregistrements possède la table `summer` ?"
   ]
  },
  {
   "cell_type": "markdown",
   "metadata": {},
   "source": [
    "```SQL\n",
    "SELECT count(*)\n",
    "FROM summer;\n",
    "```\n",
    "Résultat: 31165"
   ]
  },
  {
   "cell_type": "markdown",
   "metadata": {},
   "source": [
    "![countQ6](screen/countQ6.PNG)"
   ]
  },
  {
   "cell_type": "markdown",
   "metadata": {},
   "source": [
    "### Question 7: Quelle période des JO couvre ce fichier de résultats ?"
   ]
  },
  {
   "cell_type": "markdown",
   "metadata": {},
   "source": [
    "```SQL\n",
    "SELECT MIN(Year) AS min_year, \n",
    "    MAX(Year) AS max_year\n",
    "FROM summer;\n",
    "```"
   ]
  },
  {
   "cell_type": "markdown",
   "metadata": {},
   "source": [
    "![Q7](screen/Q7.PNG)"
   ]
  },
  {
   "cell_type": "markdown",
   "metadata": {},
   "source": [
    "### Question 8: Indiquer les années et villes des olympiades ? "
   ]
  },
  {
   "cell_type": "markdown",
   "metadata": {},
   "source": [
    "```SQL \n",
    "SELECT DISTINCT Year, City\n",
    "FROM summer; \n",
    "```"
   ]
  },
  {
   "cell_type": "markdown",
   "metadata": {},
   "source": [
    "![Q8](screen/Q8.png)"
   ]
  },
  {
   "cell_type": "markdown",
   "metadata": {},
   "source": [
    "--- "
   ]
  },
  {
   "cell_type": "markdown",
   "metadata": {},
   "source": [
    "## Questions collectives "
   ]
  },
  {
   "cell_type": "markdown",
   "metadata": {},
   "source": [
    "---"
   ]
  },
  {
   "cell_type": "markdown",
   "metadata": {},
   "source": [
    "### Q12 - Quel est l’athlète qui a remporté le plus de médailles d’or ? (Mayel)\n"
   ]
  },
  {
   "cell_type": "markdown",
   "metadata": {},
   "source": [
    "```SQL\n",
    "SELECT Athlete, COUNT(Medal) AS Gold_MEDAL\n",
    "FROM summer\n",
    "WHERE Medal='Gold'\n",
    "GROUP BY Athlete\n",
    "ORDER BY Gold_Medal DESC\n",
    "LIMIT 3;\n",
    "```"
   ]
  },
  {
   "cell_type": "markdown",
   "metadata": {},
   "source": [
    "![Q12](screen/Q12.PNG)"
   ]
  },
  {
   "cell_type": "markdown",
   "metadata": {},
   "source": [
    " ### Q2. Quel pays a le plus d’athlètes (toutes années confondues) ? (Matthias)\n",
    " "
   ]
  },
  {
   "cell_type": "markdown",
   "metadata": {},
   "source": [
    "```SQL\n",
    "SELECT Country, \n",
    "    COUNT(Athlete) AS Total_athletes\n",
    "FROM summer\n",
    "GROUP BY Country\n",
    "ORDER BY Total_athletes DESC;\n",
    "```"
   ]
  },
  {
   "cell_type": "markdown",
   "metadata": {},
   "source": [
    "![Q2](screen/Q2.PNG)"
   ]
  },
  {
   "cell_type": "markdown",
   "metadata": {},
   "source": [
    "### Q1. Combien la France a remporté de médailles d’or aux JO de 1984 ? - (Christophe)\n"
   ]
  },
  {
   "cell_type": "markdown",
   "metadata": {},
   "source": [
    "```SQL\n",
    "SELECT Country, Year, COUNT(Medal)\n",
    "FROM summer\n",
    "WHERE Country='FRA' AND Year='1984' AND Medal='Gold';\n",
    "```"
   ]
  },
  {
   "cell_type": "markdown",
   "metadata": {},
   "source": [
    "![Q1](screen/Q1.PNG)"
   ]
  },
  {
   "cell_type": "markdown",
   "metadata": {},
   "source": [
    "### Q3. En 2012 combien de médailles le Japon a t-il gagné ? (Théo)\n"
   ]
  },
  {
   "cell_type": "markdown",
   "metadata": {},
   "source": [
    "```SQL\n",
    "SELECT Country, Year, COUNT(Medal)\n",
    "FROM summer\n",
    "WHERE Country='JPN' AND Year='2012';\n",
    "```"
   ]
  },
  {
   "cell_type": "markdown",
   "metadata": {},
   "source": [
    "![Q3](screen/Q3.PNG)"
   ]
  },
  {
   "cell_type": "markdown",
   "metadata": {},
   "source": [
    "### Q4. Dans quels différents sports les Grecs ont-ils gagné des médailles ? - (Corentin L)"
   ]
  },
  {
   "cell_type": "markdown",
   "metadata": {},
   "source": [
    " ```SQL\n",
    "SELECT DISTINCT Sport,Country\n",
    "FROM summer\n",
    "WHERE Country='GRE'\n",
    "```"
   ]
  },
  {
   "cell_type": "markdown",
   "metadata": {},
   "source": [
    "![Q4](screen/Q4.PNG)"
   ]
  },
  {
   "cell_type": "markdown",
   "metadata": {},
   "source": [
    "### Q5. Quel pays a remporté le plus de médailles d’or ? (Philippe)\n"
   ]
  },
  {
   "cell_type": "markdown",
   "metadata": {},
   "source": [
    "```SQL\n",
    "SELECT Country, COUNT(Medal) AS Total_medal\n",
    "FROM summer\n",
    "WHERE Medal='Gold'\n",
    "GROUP BY Country\n",
    "ORDER BY Total_medal DESC\n",
    "LIMIT 10;\n",
    "``` "
   ]
  },
  {
   "cell_type": "markdown",
   "metadata": {},
   "source": [
    "![Q5](screen/Q5.PNG)"
   ]
  },
  {
   "cell_type": "markdown",
   "metadata": {},
   "source": [
    "### Q6. Combien de villes différentes ont accueilli les JO d’été entre 1896 - et 2012 ? (Yoann)"
   ]
  },
  {
   "cell_type": "markdown",
   "metadata": {},
   "source": [
    "```SQL\n",
    "SELECT DISTINCT City\n",
    "FROM summer;\n",
    "```"
   ]
  },
  {
   "cell_type": "markdown",
   "metadata": {},
   "source": [
    "![Q6](screen/Q6bis.PNG)"
   ]
  },
  {
   "cell_type": "markdown",
   "metadata": {},
   "source": [
    "### Q7. Combien de femmes ont obtenu une médaille d’or ? (Lamia)"
   ]
  },
  {
   "cell_type": "markdown",
   "metadata": {},
   "source": [
    "```SQL\n",
    "SELECT Gender, \n",
    "\tCOUNT(Medal)\n",
    "FROM summer\n",
    "WHERE Gender='Women' AND Medal='Gold';\n",
    "```"
   ]
  },
  {
   "cell_type": "markdown",
   "metadata": {},
   "source": [
    "![Q7](screen/Q7bis.PNG)"
   ]
  },
  {
   "cell_type": "markdown",
   "metadata": {},
   "source": [
    "### Q8. Combien de sports différents sont représentés par année ? (joris)"
   ]
  },
  {
   "cell_type": "markdown",
   "metadata": {},
   "source": [
    "```SQL\n",
    "SELECT Year, COUNT(DISTINCT Sport)\n",
    "FROM summer\n",
    "GROUP BY Year;\n",
    "```"
   ]
  },
  {
   "cell_type": "markdown",
   "metadata": {},
   "source": [
    "![Q8](screen/Q8bis.PNG)"
   ]
  },
  {
   "cell_type": "markdown",
   "metadata": {},
   "source": [
    "### Q9. Combien de fois Londres a accueilli les J.O ? (Marvin)"
   ]
  },
  {
   "cell_type": "markdown",
   "metadata": {},
   "source": [
    "```SQL\n",
    "SELECT Year, City\n",
    "FROM summer\n",
    "WHERE City ='London'\n",
    "GROUP BY Year;\n",
    "```"
   ]
  },
  {
   "cell_type": "markdown",
   "metadata": {},
   "source": [
    "![Q9](screen/Q9.PNG)"
   ]
  },
  {
   "cell_type": "markdown",
   "metadata": {},
   "source": [
    "### Q10. Combien de joueuses comptait la sélection brésilienne de volley-ball - médaillée d’or aux J.O de 2012 ? (Corentin P)"
   ]
  },
  {
   "cell_type": "markdown",
   "metadata": {},
   "source": [
    "```SQL\n",
    "SELECT Country,COUNT(Gender) Sport, Year, Medal\n",
    "FROM summer\n",
    "WHERE Country='BRA' \n",
    "\tAND Sport='Volleyball' \n",
    "\tAND Year=2012 \n",
    "\tAND Medal='Gold' \n",
    "\tAND Gender='Women';\n",
    "```"
   ]
  },
  {
   "cell_type": "markdown",
   "metadata": {},
   "source": [
    "![Q10](screen/Q10.PNG)"
   ]
  },
  {
   "cell_type": "markdown",
   "metadata": {},
   "source": [
    "### Q11. Combien de femmes françaises ont participé en 2012 , quel sont leurs - médailles ? (izak)"
   ]
  },
  {
   "cell_type": "markdown",
   "metadata": {},
   "source": [
    "```SQL\n",
    "SELECT count(DISTINCT Athlete) AS Athletes, count(Medal) AS Medal\n",
    "FROM summer\n",
    "WHERE Gender='Women' \n",
    "    AND Country='FRA' \n",
    "    AND Year=2012\n",
    "```"
   ]
  },
  {
   "cell_type": "markdown",
   "metadata": {},
   "source": [
    "![Q11](screen/Q11.PNG)"
   ]
  },
  {
   "cell_type": "markdown",
   "metadata": {},
   "source": [
    "Pour être plus précis sur les médailles gagnées:\n",
    "    \n",
    "```SQL\n",
    "SELECT Athlete, Sport, Event, Medal,Year, Gender\n",
    "FROM summer\n",
    "WHERE Country='FRA'\n",
    "    AND Gender='Women'\n",
    "    AND Year=2012\n",
    "```"
   ]
  },
  {
   "cell_type": "markdown",
   "metadata": {},
   "source": [
    "![Q11](screen/Q11bis.PNG)"
   ]
  },
  {
   "cell_type": "markdown",
   "metadata": {},
   "source": [
    "### Q13. Est-ce que la France à déjà gagné une médaille d’or au cricket ? - (jordan)"
   ]
  },
  {
   "cell_type": "markdown",
   "metadata": {},
   "source": [
    "```SQL\n",
    "SELECT Country, Sport, Medal\n",
    "FROM summer\n",
    "WHERE Country='FRA'\n",
    "\tAND Sport='Cricket'\n",
    "\tAND Medal='Gold';\n",
    "```\n",
    "\n",
    "Aucune valeurs ne sort car la France n'a pas gagné de médaille d'or au Cricket"
   ]
  },
  {
   "cell_type": "markdown",
   "metadata": {},
   "source": [
    "![Q13](screen/Q13.PNG)"
   ]
  },
  {
   "cell_type": "markdown",
   "metadata": {},
   "source": [
    "### Q14. Combien de médaillés ont un nom de famille de plus de 6 lettres en - excluant les années paires ? (jonathan)"
   ]
  },
  {
   "cell_type": "markdown",
   "metadata": {},
   "source": [
    "Il y a que des années paires au JO, donc on obtient 0 médaillés."
   ]
  },
  {
   "cell_type": "markdown",
   "metadata": {},
   "source": [
    "### Q15. Le nombre de médailles d’or par pays en 2012 (Maëlle)"
   ]
  },
  {
   "cell_type": "markdown",
   "metadata": {},
   "source": [
    "```SQL\n",
    "SELECT Country, Year, COUNT(Medal)\n",
    "FROM summer\n",
    "WHERE Medal='Gold'\n",
    "\tAND Year=2012\n",
    "GROUP BY Country\n",
    "ORDER BY COUNT(Medal) DESC;\n",
    "```"
   ]
  },
  {
   "cell_type": "markdown",
   "metadata": {},
   "source": [
    "![Q15](screen/Q15.PNG)"
   ]
  },
  {
   "cell_type": "markdown",
   "metadata": {},
   "source": [
    "### Q16. Combien de femmes ont remporté des médailles ? (Alicia)"
   ]
  },
  {
   "cell_type": "markdown",
   "metadata": {},
   "source": [
    "```SQL\n",
    "SELECT Gender , Medal, COUNT(DISTINCT Athlete) AS Total_women\n",
    "FROM summer\n",
    "WHERE Gender='Women';\n",
    "```"
   ]
  },
  {
   "cell_type": "markdown",
   "metadata": {},
   "source": [
    "![Q16](screen/Q16.PNG)"
   ]
  },
  {
   "cell_type": "markdown",
   "metadata": {},
   "source": [
    "### Q17. Entre 1984 et 2012 combien de médailles a gagné la France ? (Abire)"
   ]
  },
  {
   "cell_type": "markdown",
   "metadata": {},
   "source": [
    "```SQL\n",
    "SELECT Country,COUNT(Medal) AS Total_medal\n",
    "FROM summer\n",
    "WHERE Country='FRA'\n",
    "\tAND Year BETWEEN 1984 AND 2012;\n",
    "```"
   ]
  },
  {
   "cell_type": "markdown",
   "metadata": {},
   "source": [
    "![Q17](screen/Q17.PNG)"
   ]
  },
  {
   "cell_type": "markdown",
   "metadata": {},
   "source": [
    "--- "
   ]
  },
  {
   "cell_type": "markdown",
   "metadata": {},
   "source": [
    "Fin"
   ]
  }
 ],
 "metadata": {
  "kernelspec": {
   "display_name": "Python 3",
   "language": "python",
   "name": "python3"
  },
  "language_info": {
   "codemirror_mode": {
    "name": "ipython",
    "version": 3
   },
   "file_extension": ".py",
   "mimetype": "text/x-python",
   "name": "python",
   "nbconvert_exporter": "python",
   "pygments_lexer": "ipython3",
   "version": "3.8.6"
  }
 },
 "nbformat": 4,
 "nbformat_minor": 4
}
